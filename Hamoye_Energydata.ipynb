{
 "cells": [
  {
   "cell_type": "markdown",
   "metadata": {},
   "source": [
    "TASK 1"
   ]
  },
  {
   "cell_type": "code",
   "execution_count": 12,
   "metadata": {},
   "outputs": [
    {
     "name": "stdout",
     "output_type": "stream",
     "text": [
      "RMSE: 3.644\n"
     ]
    }
   ],
   "source": [
    "import pandas as pd\n",
    "import numpy as np \n",
    "from sklearn.linear_model import LinearRegression\n",
    "from sklearn.metrics import mean_squared_error\n",
    "\n",
    "df = pd.read_csv(\"C:\\\\Users\\\\aguerokhun\\\\Documents\\\\Data Science\\\\energydata_complete.csv\")\n",
    "model = LinearRegression()\n",
    "T2 = np.array(df['T2'])\n",
    "T6 = df['T6']\n",
    "T2 = T2.reshape(-1,1)\n",
    "model.fit(T2, T6)\n",
    "df.head()\n",
    "predictions = model.predict(T2)\n",
    "rmse = np.sqrt(mean_squared_error(T6, predictions))\n",
    "\n",
    "print(f\"RMSE: {rmse:.3f}\")\n"
   ]
  },
  {
   "cell_type": "markdown",
   "metadata": {},
   "source": [
    "TASK 2"
   ]
  },
  {
   "cell_type": "code",
   "execution_count": 18,
   "metadata": {},
   "outputs": [
    {
     "name": "stdout",
     "output_type": "stream",
     "text": [
      "Mean Absolute Error (Training Set): 53.641\n",
      "rmse: 93.637\n"
     ]
    }
   ],
   "source": [
    "from sklearn.model_selection import train_test_split\n",
    "from sklearn.preprocessing import MinMaxScaler\n",
    "from sklearn.metrics import mean_absolute_error\n",
    "\n",
    "\n",
    "data = df.drop([\"date\", \"lights\"], axis=1)\n",
    "\n",
    "X = data.drop(\"Appliances\", axis=1)\n",
    "y = data[\"Appliances\"]\n",
    "\n",
    "X_train, X_test, y_train, y_test = train_test_split(X, y, test_size=0.3, random_state=42)\n",
    "\n",
    "scaler = MinMaxScaler()\n",
    "X_train = scaler.fit_transform(X_train)\n",
    "X_test = scaler.transform(X_test)\n",
    "\n",
    "model = LinearRegression()\n",
    "model.fit(X_train, y_train)\n",
    "\n",
    "prediction = model.predict(X_test)\n",
    "\n",
    "mae = mean_absolute_error(y_test, prediction)\n",
    "\n",
    "print(\"Mean Absolute Error (Training Set):\", round(mae, 3))\n",
    "\n",
    "#TASK 3\n",
    "rmse = np.sqrt(mean_squared_error(y_test, prediction))\n",
    "print(\"rmse:\", round(rmse, 3))\n"
   ]
  }
 ],
 "metadata": {
  "kernelspec": {
   "display_name": "Python 3",
   "language": "python",
   "name": "python3"
  },
  "language_info": {
   "codemirror_mode": {
    "name": "ipython",
    "version": 3
   },
   "file_extension": ".py",
   "mimetype": "text/x-python",
   "name": "python",
   "nbconvert_exporter": "python",
   "pygments_lexer": "ipython3",
   "version": "3.11.4"
  }
 },
 "nbformat": 4,
 "nbformat_minor": 2
}
